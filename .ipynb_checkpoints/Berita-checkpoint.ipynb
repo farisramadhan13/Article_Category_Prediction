{
 "cells": [
  {
   "cell_type": "markdown",
   "id": "a1408f04-12b6-4e20-b18e-f54164d2c38b",
   "metadata": {},
   "source": [
    "**Scraping Data**"
   ]
  },
  {
   "cell_type": "code",
   "execution_count": 1,
   "id": "41b4d9eb-de03-4648-868e-f6cfb0d6417e",
   "metadata": {},
   "outputs": [],
   "source": [
    "import csv\n",
    "from selenium import webdriver\n",
    "from selenium.webdriver.chrome.service import Service\n",
    "from selenium.webdriver.chrome.options import Options\n",
    "from selenium.webdriver.common.by import By\n",
    "from webdriver_manager.chrome import ChromeDriverManager\n",
    "import time"
   ]
  },
  {
   "cell_type": "code",
   "execution_count": 2,
   "id": "a2f794b3-e3ee-42bb-9855-64778c71d2b7",
   "metadata": {},
   "outputs": [],
   "source": [
    "# Setup selenium\n",
    "options = Options()\n",
    "options.headless = True  # Run browser in headless mode\n",
    "driver = webdriver.Chrome(service=Service(ChromeDriverManager().install()), options=options)"
   ]
  },
  {
   "cell_type": "code",
   "execution_count": 3,
   "id": "fa27879a-4595-4d4b-a0fb-08610e4971d8",
   "metadata": {},
   "outputs": [],
   "source": [
    "base_url = 'https://www.weforum.org/agenda/?page='\n",
    "num_pages = 10  # Number of pages you want to scrape"
   ]
  },
  {
   "cell_type": "code",
   "execution_count": 4,
   "id": "6885f222-2096-43e3-bf1b-c18617e9ccb9",
   "metadata": {},
   "outputs": [
    {
     "name": "stdout",
     "output_type": "stream",
     "text": [
      "Scraping page 1: https://www.weforum.org/agenda/?page=1\n",
      "Scraping page 2: https://www.weforum.org/agenda/?page=2\n",
      "Scraping page 3: https://www.weforum.org/agenda/?page=3\n",
      "Scraping page 4: https://www.weforum.org/agenda/?page=4\n",
      "Scraping page 5: https://www.weforum.org/agenda/?page=5\n",
      "Scraping page 6: https://www.weforum.org/agenda/?page=6\n",
      "Scraping page 7: https://www.weforum.org/agenda/?page=7\n",
      "Scraping page 8: https://www.weforum.org/agenda/?page=8\n",
      "Scraping page 9: https://www.weforum.org/agenda/?page=9\n",
      "Scraping page 10: https://www.weforum.org/agenda/?page=10\n"
     ]
    }
   ],
   "source": [
    "results = []\n",
    "for page in range(1, num_pages + 1):\n",
    "    url = base_url + str(page)\n",
    "    print(f\"Scraping page {page}: {url}\")\n",
    "    driver.get(url)\n",
    "\n",
    "    # Tunggu sebentar agar halaman sepenuhnya dimuat\n",
    "    time.sleep(3)\n",
    "\n",
    "    # Mengambil elemen artikel\n",
    "    articles = driver.find_elements(By.CSS_SELECTOR, 'article.wef-1rl6rhs')\n",
    "\n",
    "    for article in articles:\n",
    "        try:\n",
    "            category = article.find_element(By.CSS_SELECTOR, 'a.chakra-badge').text.strip()\n",
    "        except:\n",
    "            category = 'N/A'\n",
    "        \n",
    "        try:\n",
    "            title = article.find_element(By.CSS_SELECTOR, 'a.chakra-link.wef-1c7l3mo').text.strip()\n",
    "        except:\n",
    "            title = 'N/A'\n",
    "        \n",
    "        try:\n",
    "            description = article.find_element(By.CSS_SELECTOR, 'div.wef-1c4gmja').text.strip()\n",
    "        except:\n",
    "            description = 'N/A'\n",
    "        \n",
    "        try:\n",
    "            author_info = article.find_element(By.CSS_SELECTOR, 'div.wef-1bf8j10')\n",
    "            authors = author_info.find_element(By.CSS_SELECTOR, 'p.chakra-text.wef-kefhaq').text.strip()\n",
    "            date = author_info.find_element(By.CSS_SELECTOR, 'p.chakra-text.wef-1iho44l').text.strip()\n",
    "        except:\n",
    "            authors = 'N/A'\n",
    "            date = 'N/A'\n",
    "        \n",
    "        results.append({\n",
    "            'kategori': category,\n",
    "            'judul': title,\n",
    "            'deskripsi': description,\n",
    "            'penulis': authors,\n",
    "            'tanggal': date\n",
    "        })"
   ]
  },
  {
   "cell_type": "code",
   "execution_count": 5,
   "id": "e862da4f-0d18-4c3a-b315-1cbe8ce62f70",
   "metadata": {},
   "outputs": [
    {
     "name": "stdout",
     "output_type": "stream",
     "text": [
      "Data berhasil disimpan ke weforum_articles_all_pages.csv\n"
     ]
    }
   ],
   "source": [
    "# Menyimpan hasil ke file CSV\n",
    "csv_file = 'weforum_articles_all_pages.csv'\n",
    "with open(csv_file, mode='w', newline='', encoding='utf-8') as file:\n",
    "    writer = csv.DictWriter(file, fieldnames=['kategori', 'judul', 'deskripsi', 'penulis', 'tanggal'])\n",
    "    writer.writeheader()\n",
    "    for result in results:\n",
    "        writer.writerow(result)\n",
    "\n",
    "print(f\"Data berhasil disimpan ke {csv_file}\")\n",
    "\n",
    "driver.quit()"
   ]
  },
  {
   "cell_type": "markdown",
   "id": "8c928f4d-161f-442f-b38c-abd954ed45de",
   "metadata": {},
   "source": [
    "**Klasifikasi Kategori**"
   ]
  },
  {
   "cell_type": "code",
   "execution_count": 21,
   "id": "662a626c-ef65-4461-8fe4-6f5f7116c150",
   "metadata": {},
   "outputs": [
    {
     "data": {
      "text/html": [
       "<div>\n",
       "<style scoped>\n",
       "    .dataframe tbody tr th:only-of-type {\n",
       "        vertical-align: middle;\n",
       "    }\n",
       "\n",
       "    .dataframe tbody tr th {\n",
       "        vertical-align: top;\n",
       "    }\n",
       "\n",
       "    .dataframe thead th {\n",
       "        text-align: right;\n",
       "    }\n",
       "</style>\n",
       "<table border=\"1\" class=\"dataframe\">\n",
       "  <thead>\n",
       "    <tr style=\"text-align: right;\">\n",
       "      <th></th>\n",
       "      <th>kategori</th>\n",
       "      <th>judul</th>\n",
       "      <th>deskripsi</th>\n",
       "      <th>penulis</th>\n",
       "      <th>tanggal</th>\n",
       "    </tr>\n",
       "  </thead>\n",
       "  <tbody>\n",
       "    <tr>\n",
       "      <th>0</th>\n",
       "      <td>BUSINESS</td>\n",
       "      <td>5 ways to build innovation cultures at work, a...</td>\n",
       "      <td>Key structures support the most innovative tea...</td>\n",
       "      <td>Andrea Willige</td>\n",
       "      <td>August 10, 2024</td>\n",
       "    </tr>\n",
       "    <tr>\n",
       "      <th>1</th>\n",
       "      <td>RESILIENCE, PEACE AND SECURITY</td>\n",
       "      <td>Sudan: Learning lessons from the past in searc...</td>\n",
       "      <td>For civil war ceasefire talks in Geneva to suc...</td>\n",
       "      <td>Mohamed Elshabik</td>\n",
       "      <td>August 9, 2024</td>\n",
       "    </tr>\n",
       "    <tr>\n",
       "      <th>2</th>\n",
       "      <td>HEALTH AND HEALTHCARE SYSTEMS</td>\n",
       "      <td>Innovative mouth-based touchpad enables people...</td>\n",
       "      <td>MouthPad enables paralyzed individuals to cont...</td>\n",
       "      <td>Zach Winn</td>\n",
       "      <td>August 9, 2024</td>\n",
       "    </tr>\n",
       "    <tr>\n",
       "      <th>3</th>\n",
       "      <td>FINANCIAL AND MONETARY SYSTEMS</td>\n",
       "      <td>US jobless claims fall, easing market fears an...</td>\n",
       "      <td>Top economy stories: US recession fears abate ...</td>\n",
       "      <td>Rebecca Geldard and Joe Myers</td>\n",
       "      <td>August 9, 2024</td>\n",
       "    </tr>\n",
       "    <tr>\n",
       "      <th>4</th>\n",
       "      <td>FINANCIAL AND MONETARY SYSTEMS</td>\n",
       "      <td>From Lagos to Abidjan: 1,000km of entrepreneur...</td>\n",
       "      <td>An improved digital payments framework along t...</td>\n",
       "      <td>Moustapha Mamy Diaby and Cynthia Gnassingbe</td>\n",
       "      <td>August 9, 2024</td>\n",
       "    </tr>\n",
       "  </tbody>\n",
       "</table>\n",
       "</div>"
      ],
      "text/plain": [
       "                         kategori  \\\n",
       "0                        BUSINESS   \n",
       "1  RESILIENCE, PEACE AND SECURITY   \n",
       "2   HEALTH AND HEALTHCARE SYSTEMS   \n",
       "3  FINANCIAL AND MONETARY SYSTEMS   \n",
       "4  FINANCIAL AND MONETARY SYSTEMS   \n",
       "\n",
       "                                               judul  \\\n",
       "0  5 ways to build innovation cultures at work, a...   \n",
       "1  Sudan: Learning lessons from the past in searc...   \n",
       "2  Innovative mouth-based touchpad enables people...   \n",
       "3  US jobless claims fall, easing market fears an...   \n",
       "4  From Lagos to Abidjan: 1,000km of entrepreneur...   \n",
       "\n",
       "                                           deskripsi  \\\n",
       "0  Key structures support the most innovative tea...   \n",
       "1  For civil war ceasefire talks in Geneva to suc...   \n",
       "2  MouthPad enables paralyzed individuals to cont...   \n",
       "3  Top economy stories: US recession fears abate ...   \n",
       "4  An improved digital payments framework along t...   \n",
       "\n",
       "                                       penulis          tanggal  \n",
       "0                               Andrea Willige  August 10, 2024  \n",
       "1                             Mohamed Elshabik   August 9, 2024  \n",
       "2                                    Zach Winn   August 9, 2024  \n",
       "3                Rebecca Geldard and Joe Myers   August 9, 2024  \n",
       "4  Moustapha Mamy Diaby and Cynthia Gnassingbe   August 9, 2024  "
      ]
     },
     "execution_count": 21,
     "metadata": {},
     "output_type": "execute_result"
    }
   ],
   "source": [
    "import pandas as pd\n",
    "from sklearn.feature_extraction.text import TfidfVectorizer\n",
    "from sklearn.model_selection import train_test_split\n",
    "from sklearn.naive_bayes import MultinomialNB\n",
    "from sklearn.metrics import classification_report, accuracy_score\n",
    "\n",
    "# Load data\n",
    "data = pd.read_csv(r\"C:\\Users\\ASUS\\Documents\\Portofolio Data Science\\Berita\\weforum_articles_all_pages.csv\")\n",
    "data.head()"
   ]
  },
  {
   "cell_type": "code",
   "execution_count": 9,
   "id": "35104a5a-94ac-45da-a3c1-b58fb7dfce8e",
   "metadata": {},
   "outputs": [],
   "source": [
    "# Fitur dan target\n",
    "X = data['judul']  # Kolom teks\n",
    "y = data['kategori']  # Kolom target kategori\n",
    "\n",
    "# Split data menjadi training dan testing set\n",
    "X_train, X_test, y_train, y_test = train_test_split(X, y, test_size=0.3, random_state=42)\n"
   ]
  },
  {
   "cell_type": "code",
   "execution_count": 16,
   "id": "83004ae0-ed2b-42ef-99c3-828c380a448a",
   "metadata": {},
   "outputs": [],
   "source": [
    "# Split data\n",
    "X_train, X_test, y_train, y_test = train_test_split(X, y, test_size=0.2, random_state=42)"
   ]
  },
  {
   "cell_type": "code",
   "execution_count": 19,
   "id": "04cb7fca-c947-4437-821c-16d8f53674b5",
   "metadata": {},
   "outputs": [
    {
     "data": {
      "text/plain": [
       "<Compressed Sparse Row sparse matrix of dtype 'float64'\n",
       "\twith 2148 stored elements and shape (119, 1443)>"
      ]
     },
     "execution_count": 19,
     "metadata": {},
     "output_type": "execute_result"
    }
   ],
   "source": [
    "X_train"
   ]
  },
  {
   "cell_type": "code",
   "execution_count": null,
   "id": "64c5bd62-ac18-4816-a280-07464719e674",
   "metadata": {},
   "outputs": [],
   "source": []
  }
 ],
 "metadata": {
  "kernelspec": {
   "display_name": "Python 3 (ipykernel)",
   "language": "python",
   "name": "python3"
  },
  "language_info": {
   "codemirror_mode": {
    "name": "ipython",
    "version": 3
   },
   "file_extension": ".py",
   "mimetype": "text/x-python",
   "name": "python",
   "nbconvert_exporter": "python",
   "pygments_lexer": "ipython3",
   "version": "3.12.4"
  }
 },
 "nbformat": 4,
 "nbformat_minor": 5
}
